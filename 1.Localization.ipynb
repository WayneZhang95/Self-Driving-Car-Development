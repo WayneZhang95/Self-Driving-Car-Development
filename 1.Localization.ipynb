{
 "cells": [
  {
   "cell_type": "markdown",
   "metadata": {},
   "source": [
    "#:udacity的AI for robots课程\n",
    "此文是第一部分定位的内容与练习代码"
   ]
  },
  {
   "cell_type": "markdown",
   "metadata": {},
   "source": [
    "localization：\n",
    "定位很重要，传统GPS精度只有2-10m，无人驾驶车需要的定位精度是2-10cm，一般的解决方法是预先存储地图和道路信息，再用概率去匹配\n",
    "\n",
    "例如，一段数组[红，绿，绿，红，红]，在初始时，所在位置都有可能，p[i]=0.2\n",
    "经过观察，是红的，那么，第1,4,5的概率就更高，2,3的概率就很低，再向右走一步，是绿色，那么之前在第1个的概率就非常大。\n"
   ]
  },
  {
   "cell_type": "markdown",
   "metadata": {},
   "source": [
    " 1.1假设有五个格子，那么每个格子的概率都相等，为："
   ]
  },
  {
   "cell_type": "code",
   "execution_count": 1,
   "metadata": {},
   "outputs": [
    {
     "name": "stdout",
     "output_type": "stream",
     "text": [
      "[0.2, 0.2, 0.2, 0.2, 0.2]\n"
     ]
    }
   ],
   "source": [
    "# Modify the empty list, p, so that it becomes a UNIFORM probability\n",
    "# distribution over five grid cells, as expressed in a list of \n",
    "# five probabilities.\n",
    "\n",
    "p = [0.2,0.2,0.2,0.2,0.2]\n",
    "\n",
    "print p\n"
   ]
  },
  {
   "cell_type": "markdown",
   "metadata": {},
   "source": [
    "1.2如果有n个格子，那么概率为：\n",
    "初始化机器人对格子的初始信度"
   ]
  },
  {
   "cell_type": "code",
   "execution_count": 2,
   "metadata": {},
   "outputs": [
    {
     "name": "stdout",
     "output_type": "stream",
     "text": [
      "6\n",
      "[0.16666666666666666, 0.16666666666666666, 0.16666666666666666, 0.16666666666666666, 0.16666666666666666, 0.16666666666666666]\n"
     ]
    }
   ],
   "source": [
    "n = input()\n",
    "p = []\n",
    "p = [1./n]*n\n",
    "print p"
   ]
  },
  {
   "cell_type": "code",
   "execution_count": 3,
   "metadata": {},
   "outputs": [
    {
     "name": "stdout",
     "output_type": "stream",
     "text": [
      "6\n",
      "[0.16666666666666666, 0.16666666666666666, 0.16666666666666666, 0.16666666666666666, 0.16666666666666666, 0.16666666666666666]\n"
     ]
    }
   ],
   "source": [
    "n = input()\n",
    "p = []\n",
    "for i in range(n):\n",
    "    p.append(1./n)\n",
    "print p"
   ]
  },
  {
   "cell_type": "markdown",
   "metadata": {},
   "source": [
    "1.3假设格子颜色分别为：('green','red','red','green','green')\n",
    "机器人目前可以感知颜色，当感知的颜色与格子实际颜色对应时，概率上升，不对应时下降\n",
    "用乘法来解决。pHit=0.6，pMiss = 0.2"
   ]
  },
  {
   "cell_type": "code",
   "execution_count": 4,
   "metadata": {},
   "outputs": [
    {
     "name": "stdout",
     "output_type": "stream",
     "text": [
      "0.36\n",
      "[0.1111111111111111, 0.33333333333333326, 0.33333333333333326, 0.1111111111111111, 0.1111111111111111]\n"
     ]
    }
   ],
   "source": [
    "p = [0.2,0.2,0.2,0.2,0.2]\n",
    "pHit = 0.6\n",
    "pMiss = 0.2\n",
    "p[0] = p[0]*pMiss\n",
    "p[1] = p[1] * pHit\n",
    "p[2] = p[2] * pHit\n",
    "p[3] = p[3] * pMiss\n",
    "p[4] = p[4] * pMiss\n",
    "\n",
    "#p = [p[0]*pMiss,p[1]*pHit,p[2]*pHit,p[3]*pMiss,p[4]*pMiss]\n",
    "\n",
    "print sum(p) \n",
    "a = 1./sum(p)\n",
    "\n",
    "p = [x*a for x in p]     #列表每个值都乘上一个数\n",
    "print p "
   ]
  },
  {
   "cell_type": "markdown",
   "metadata": {},
   "source": [
    "1.4定义道路结构world，与观察度量Z\n",
    "如果观察与道路相符，则概率变大(0.6)，若不相符，则变小(0.2)\n",
    "计算，使得概率之和为1"
   ]
  },
  {
   "cell_type": "code",
   "execution_count": 5,
   "metadata": {},
   "outputs": [
    {
     "name": "stdout",
     "output_type": "stream",
     "text": [
      "[0.1111111111111111, 0.33333333333333326, 0.33333333333333326, 0.1111111111111111, 0.1111111111111111]\n"
     ]
    }
   ],
   "source": [
    "p = [0.2,0.2,0.2,0.2,0.2]\n",
    "world = ['green','red','red','green','green']\n",
    "Z = 'red'\n",
    "pHit = 0.6\n",
    "pMiss = 0.2\n",
    "\n",
    "def sense(p,Z):\n",
    "    q = []\n",
    "    for i in range(len(p)):\n",
    "        Hit = (Z == world[i])\n",
    "        q.append(p[i]*(Hit * pHit + (1-Hit) * pMiss))\n",
    "    q = [x*(1./sum(q)) for x in q]    \n",
    "    return q\n",
    "print sense(p,Z)\n"
   ]
  },
  {
   "cell_type": "code",
   "execution_count": 6,
   "metadata": {},
   "outputs": [
    {
     "ename": "SyntaxError",
     "evalue": "invalid syntax (<ipython-input-6-34a27457a7d6>, line 1)",
     "output_type": "error",
     "traceback": [
      "\u001b[1;36m  File \u001b[1;32m\"<ipython-input-6-34a27457a7d6>\"\u001b[1;36m, line \u001b[1;32m1\u001b[0m\n\u001b[1;33m    现在，使观察向量Z为['red','green']\u001b[0m\n\u001b[1;37m    ^\u001b[0m\n\u001b[1;31mSyntaxError\u001b[0m\u001b[1;31m:\u001b[0m invalid syntax\n"
     ]
    }
   ],
   "source": [
    "现在，使观察向量Z为['red','green']\n"
   ]
  },
  {
   "cell_type": "code",
   "execution_count": 7,
   "metadata": {},
   "outputs": [
    {
     "name": "stdout",
     "output_type": "stream",
     "text": [
      "[0.20000000000000007, 0.2, 0.2, 0.20000000000000007, 0.20000000000000007]\n"
     ]
    }
   ],
   "source": [
    "p = [0.2,0.2,0.2,0.2,0.2]\n",
    "world = ['green','red','red','green','green']\n",
    "Z = ['red','green']\n",
    "pHit = 0.6\n",
    "pMiss = 0.2\n",
    "\n",
    "def sense(p,Z):\n",
    "    q = []\n",
    "    for i in range(len(p)):\n",
    "        Hit = (Z == world[i])\n",
    "        q.append(p[i]*(Hit * pHit + (1-Hit) * pMiss))\n",
    "    q = [x*(1./sum(q)) for x in q]    \n",
    "    return q\n",
    "\n",
    "for k in range(len(Z)):\n",
    "    p = sense(p,Z[k])\n",
    "    \n",
    "print p\n"
   ]
  },
  {
   "cell_type": "markdown",
   "metadata": {},
   "source": [
    "上面的出现问题，每个都是0.2，都是乘上0.6，再乘上0.2，因为格子没有移动，而两次观察到相反的结果\n",
    "现在，将格子都向右移动一格,相当于机器人向左走"
   ]
  },
  {
   "cell_type": "code",
   "execution_count": 8,
   "metadata": {},
   "outputs": [
    {
     "name": "stdout",
     "output_type": "stream",
     "text": [
      "['green', 'red', 'red', 'green', 'green']\n",
      "['green', 'green', 'red', 'red', 'green']\n",
      "[0.1578947368421053, 0.4736842105263158, 0.15789473684210528, 0.05263157894736844, 0.1578947368421053]\n"
     ]
    }
   ],
   "source": [
    "p = [0.2,0.2,0.2,0.2,0.2]\n",
    "world = ['green','red','red','green','green']\n",
    "Z = ['red','green']\n",
    "pHit = 0.6\n",
    "pMiss = 0.2\n",
    "\n",
    "def sense(p,Z):\n",
    "    q = []\n",
    "    for i in range(len(p)):\n",
    "        Hit = (Z == world[i])\n",
    "        q.append(p[i]*(Hit * pHit + (1-Hit) * pMiss))\n",
    "    q = [x*(1./sum(q)) for x in q]    \n",
    "    return q\n",
    "\n",
    "for k in range(len(Z)):\n",
    "    print world\n",
    "    p = sense(p,Z[k])\n",
    "    world.insert(0,world[4])\n",
    "    world.pop()\n",
    "       \n",
    "\n",
    "\n",
    "print p"
   ]
  },
  {
   "cell_type": "code",
   "execution_count": 9,
   "metadata": {},
   "outputs": [
    {
     "name": "stdout",
     "output_type": "stream",
     "text": [
      "[0.00023646252069047053, 0.015133601324190114, 0.9685504847481673, 0.015133601324190114, 0.0009458500827618821]\n"
     ]
    }
   ],
   "source": [
    "#将格子向左移动一格，相当于机器人向右走\n",
    "p = [0.2,0.2,0.2,0.2,0.2]\n",
    "world = ['green','red','red','green','green']\n",
    "Z = ['red','green','green','green','red','red','green']\n",
    "pHit = 0.8\n",
    "pMiss = 0.2\n",
    "\n",
    "def sense(p,Z):\n",
    "    q = []\n",
    "    for i in range(len(p)):\n",
    "        Hit = (Z == world[i])\n",
    "        q.append(p[i]*(Hit * pHit + (1-Hit) * pMiss))\n",
    "    q = [x*(1./sum(q)) for x in q]    \n",
    "    return q\n",
    "\n",
    "for k in range(len(Z)):\n",
    "    #print world\n",
    "    p = sense(p,Z[k])\n",
    "    #world.insert(0,world[4])\n",
    "    #world.pop()\n",
    "    world.append(world[0])\n",
    "    world.pop(0)\n",
    "\n",
    "print p"
   ]
  },
  {
   "cell_type": "markdown",
   "metadata": {},
   "source": [
    "使用python操纵列表向左或向右循环的方法："
   ]
  },
  {
   "cell_type": "code",
   "execution_count": 10,
   "metadata": {},
   "outputs": [
    {
     "name": "stdout",
     "output_type": "stream",
     "text": [
      "[0, 0, 1, 0, 0, 0]\n",
      "[0, 0, 1, 0, 0, 0]\n",
      "[1, 0, 0, 0, 0, 0]\n",
      "[0, 0, 0, 0, 1, 0]\n"
     ]
    }
   ],
   "source": [
    "#野路子，不知道为什么p经过函数会变化\n",
    "p = [1,0,0,0,0,0]\n",
    "#向左\n",
    "U = 2\n",
    "def move_right(p,U):\n",
    "    q1 = p\n",
    "    for i in range(U):\n",
    "        q1.insert(0,q1.pop())\n",
    "    return q1\n",
    "#向右\n",
    "def move_left(p,U):\n",
    "    q = p\n",
    "    for i in range(U):\n",
    "        \n",
    "        q.append(q.pop(0))\n",
    "    return q\n",
    "print move_right(p,U)\n",
    "print p\n",
    "print move_left(p,U)\n",
    "print move_left(p,U)"
   ]
  },
  {
   "cell_type": "code",
   "execution_count": 11,
   "metadata": {},
   "outputs": [
    {
     "name": "stdout",
     "output_type": "stream",
     "text": [
      "[0, 0, 0, 0, 0, 1, 0]\n",
      "[0, 0, 0, 1, 0, 0, 0]\n",
      "[0, 1, 0, 0, 0, 0, 0]\n"
     ]
    }
   ],
   "source": [
    "#udacity方法\n",
    "p = [0,0,0,1,0,0,0]\n",
    "U = 2\n",
    "def move_right(p,U):\n",
    "    q = []\n",
    "    for i in range(len(p)):\n",
    "        q.append(p[(i-U)%len(p)])\n",
    "    return q\n",
    "#向右移动两位\n",
    "print move_right(p,U)\n",
    "#不变\n",
    "print p\n",
    "#向左移动两位\n",
    "print move_left(p,U)\n",
    "def move_left(p,U):\n",
    "    q = []\n",
    "    for i in range(len(p)):\n",
    "        q.append(p[(U+i)%(len(p))])\n",
    "    return q\n",
    "\n"
   ]
  },
  {
   "cell_type": "markdown",
   "metadata": {},
   "source": [
    "Inaccurate Robot Motion\n",
    "非准确机器人移动，假设机器人计划移动U步，P(走准确)=0.8，P（少走一步）=0.1，P(多走一步)=0.1\n",
    "例如，当前先验分布[0,1,0,0,0]，U=2时，后验分布应该是[0,0,0.1,0.8,0.1]"
   ]
  },
  {
   "cell_type": "code",
   "execution_count": 12,
   "metadata": {},
   "outputs": [
    {
     "name": "stdout",
     "output_type": "stream",
     "text": [
      "[0.0, 0.1, 0.8, 0.1, 0.0]\n"
     ]
    }
   ],
   "source": [
    "#Modify the move function to accommodate the added \n",
    "#probabilities of overshooting or undershooting \n",
    "#the intended destination.\n",
    "\n",
    "p=[0, 1, 0, 0, 0]\n",
    "world=['green', 'red', 'red', 'green', 'green']\n",
    "measurements = ['red', 'green']\n",
    "pHit = 0.6\n",
    "pMiss = 0.2\n",
    "pExact = 0.8\n",
    "pOvershoot = 0.1\n",
    "pUndershoot = 0.1\n",
    "\n",
    "def sense(p, Z):\n",
    "    q=[]\n",
    "    for i in range(len(p)):\n",
    "        hit = (Z == world[i])\n",
    "        q.append(p[i] * (hit * pHit + (1-hit) * pMiss))\n",
    "    s = sum(q)\n",
    "    for i in range(len(q)):\n",
    "        q[i] = q[i] / s\n",
    "    return q\n",
    "\n",
    "def move(p, U):\n",
    "    q = []\n",
    "    for i in range(len(p)):\n",
    "        q.append(p[(i-U)%len(p)])\n",
    "    return q\n",
    "    \n",
    "p = move(p,1)\n",
    "\n",
    "def inaccurate(p,U):\n",
    "    q = [0]*len(p)   #如果不初始化q[]，就会提示超出范围\n",
    "    for i in range(len(p)):\n",
    "        q[(i+U)%(len(p))] = p[(i+U-1)%(len(p))]*pUndershoot + p[(i+U)%(len(p))] * pExact + p[(i+U+1)%(len(p))]*pOvershoot\n",
    "    return q\n",
    "print inaccurate(p,1)\n",
    "    "
   ]
  },
  {
   "cell_type": "code",
   "execution_count": 13,
   "metadata": {},
   "outputs": [
    {
     "name": "stdout",
     "output_type": "stream",
     "text": [
      "[0.0, 0.1, 0.8, 0.1, 0.0]\n"
     ]
    }
   ],
   "source": [
    "#Modify the move function to accommodate the added \n",
    "#probabilities of overshooting or undershooting \n",
    "#the intended destination.\n",
    "\n",
    "p=[0, 1, 0, 0, 0]\n",
    "world=['green', 'red', 'red', 'green', 'green']\n",
    "measurements = ['red', 'green']\n",
    "pHit = 0.6\n",
    "pMiss = 0.2\n",
    "pExact = 0.8\n",
    "pOvershoot = 0.1\n",
    "pUndershoot = 0.1\n",
    "\n",
    "def sense(p, Z):\n",
    "    q=[]\n",
    "    for i in range(len(p)):\n",
    "        hit = (Z == world[i])\n",
    "        q.append(p[i] * (hit * pHit + (1-hit) * pMiss))\n",
    "    s = sum(q)\n",
    "    for i in range(len(q)):\n",
    "        q[i] = q[i] / s\n",
    "    return q\n",
    "\n",
    "def move(p, U):\n",
    "    q = []\n",
    "    for i in range(len(p)):\n",
    "        s = p[(i-U)%len(p)]*pExact + p[(i-U-1)%len(p)]*pOvershoot + p[(i-U+1)%len(p)]*pUndershoot\n",
    "        q.append(s)\n",
    "    return q\n",
    "    \n",
    "print move(p,1)\n"
   ]
  },
  {
   "cell_type": "code",
   "execution_count": 14,
   "metadata": {},
   "outputs": [
    {
     "name": "stdout",
     "output_type": "stream",
     "text": [
      "[0.20000000000000365, 0.20000000000000373, 0.20000000000000365, 0.2000000000000035, 0.2000000000000035]\n"
     ]
    }
   ],
   "source": [
    "#[0,1,0,0,0,0]移动无数多次，如果考虑不准确性，最终结果都是0.2\n",
    "#以下是移动1k次的结果\n",
    "#write code that moves 1000 times and then prints the \n",
    "#resulting probability distribution.\n",
    "\n",
    "p=[0, 1, 0, 0, 0]\n",
    "world=['green', 'red', 'red', 'green', 'green']\n",
    "measurements = ['red', 'green']\n",
    "pHit = 0.6\n",
    "pMiss = 0.2\n",
    "pExact = 0.8\n",
    "pOvershoot = 0.1\n",
    "pUndershoot = 0.1\n",
    "\n",
    "def sense(p, Z):\n",
    "    q=[]\n",
    "    for i in range(len(p)):\n",
    "        hit = (Z == world[i])\n",
    "        q.append(p[i] * (hit * pHit + (1-hit) * pMiss))\n",
    "    s = sum(q)\n",
    "    for i in range(len(q)):\n",
    "        q[i] = q[i] / s\n",
    "    return q\n",
    "\n",
    "def move(p, U):\n",
    "    q = []\n",
    "    for i in range(len(p)):\n",
    "        s = pExact * p[(i-U) % len(p)]\n",
    "        s = s + pOvershoot * p[(i-U-1) % len(p)]\n",
    "        s = s + pUndershoot * p[(i-U+1) % len(p)]\n",
    "        q.append(s)\n",
    "    return q\n",
    "#\n",
    "# ADD CODE HERE\n",
    "#\n",
    "for i in range(1000):\n",
    "    p = move(p,1)\n",
    "print p"
   ]
  },
  {
   "cell_type": "markdown",
   "metadata": {},
   "source": [
    "现在，自动驾驶定位编程几乎完成了\n",
    "整个系统处在不停的move，sense之中，在不停的move中，机器人由于不准确性位置变得延展，概率趋于均衡；\n",
    "在sense中，机器人对当前位置不断感知，概率变得集中\n",
    "先感知，再移动位置"
   ]
  },
  {
   "cell_type": "code",
   "execution_count": 15,
   "metadata": {},
   "outputs": [
    {
     "name": "stdout",
     "output_type": "stream",
     "text": [
      "[0.044387664787064234, 0.16540598125547146, 0.5320745790205469, 0.21929271911529943, 0.038839055821618014]\n"
     ]
    }
   ],
   "source": [
    "#Given the list motions=[1,1] which means the robot \n",
    "#moves right and then right again, compute the posterior \n",
    "#distribution if the robot first senses red, then moves \n",
    "#right one, then senses green, then moves right again, \n",
    "#starting with a uniform prior distribution.\n",
    "\n",
    "p=[0.2, 0.2, 0.2, 0.2, 0.2]\n",
    "world=['green', 'red', 'red', 'green', 'green']\n",
    "measurements = ['red', 'green','green','green','red']\n",
    "motions = [1,1,1,1,1]\n",
    "pHit = 0.6\n",
    "pMiss = 0.2\n",
    "pExact = 0.8\n",
    "pOvershoot = 0.1\n",
    "pUndershoot = 0.1\n",
    "\n",
    "def sense(p, Z):\n",
    "    q=[]\n",
    "    for i in range(len(p)):\n",
    "        hit = (Z == world[i])\n",
    "        q.append(p[i] * (hit * pHit + (1-hit) * pMiss))\n",
    "    s = sum(q)\n",
    "    for i in range(len(q)):\n",
    "        q[i] = q[i] / s\n",
    "    return q\n",
    "\n",
    "def move(p, U):\n",
    "    q = []\n",
    "    for i in range(len(p)):\n",
    "        s = pExact * p[(i-U) % len(p)]\n",
    "        s = s + pOvershoot * p[(i-U-1) % len(p)]\n",
    "        s = s + pUndershoot * p[(i-U+1) % len(p)]\n",
    "        q.append(s)\n",
    "    return q\n",
    "#\n",
    "# ADD CODE HERE\n",
    "#\n",
    "for i in range(len(motions)):\n",
    "    p = sense(p,measurements[i])\n",
    "    p = move(p,motions[i])\n",
    "print p        "
   ]
  },
  {
   "cell_type": "code",
   "execution_count": 16,
   "metadata": {},
   "outputs": [
    {
     "data": {
      "text/plain": [
       "[<matplotlib.lines.Line2D at 0xa7f9f98>]"
      ]
     },
     "execution_count": 16,
     "metadata": {},
     "output_type": "execute_result"
    }
   ],
   "source": [
    "import matplotlib.pyplot as plt\n",
    "import numpy as np\n",
    "\n",
    "x = np.arange(5)\n",
    "y = p\n",
    "\n",
    "plt.plot(x, y)"
   ]
  },
  {
   "cell_type": "markdown",
   "metadata": {},
   "source": [
    "Bayes Rule\n",
    "P(X|Z) = P(Z|X)P(X)/P(Z)\n",
    "P(Z) = sum(P(Z|Xi))\n",
    "\n",
    "Total Probality\n",
    "P(A)= sum(P(A|B)*P(B))"
   ]
  },
  {
   "cell_type": "markdown",
   "metadata": {},
   "source": [
    "需要注意的是内存使用量，三维空间物体运动有6个方向：X,Y,Z,pitch,roll,yaw，假设每个观察量有20个观察值，联合表的内存占用量是20^6"
   ]
  },
  {
   "cell_type": "code",
   "execution_count": 18,
   "metadata": {},
   "outputs": [
    {
     "name": "stdout",
     "output_type": "stream",
     "text": [
      "0.990080357143\n"
     ]
    }
   ],
   "source": []
  },
  {
   "cell_type": "code",
   "execution_count": 20,
   "metadata": {},
   "outputs": [
    {
     "data": {
      "text/plain": [
       "0.008928571428571428"
      ]
     },
     "execution_count": 20,
     "metadata": {},
     "output_type": "execute_result"
    }
   ],
   "source": []
  },
  {
   "cell_type": "code",
   "execution_count": null,
   "metadata": {},
   "outputs": [],
   "source": []
  }
 ],
 "metadata": {
  "kernelspec": {
   "display_name": "Python 2",
   "language": "python",
   "name": "python2"
  },
  "language_info": {
   "codemirror_mode": {
    "name": "ipython",
    "version": 2
   },
   "file_extension": ".py",
   "mimetype": "text/x-python",
   "name": "python",
   "nbconvert_exporter": "python",
   "pygments_lexer": "ipython2",
   "version": "2.7.14"
  }
 },
 "nbformat": 4,
 "nbformat_minor": 2
}
